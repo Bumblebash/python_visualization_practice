{
 "cells": [
  {
   "cell_type": "markdown",
   "id": "c594e79f-a7fb-4054-abfc-83aa0e4cc09a",
   "metadata": {},
   "source": [
    " ### 2. Import Important Libraries "
   ]
  },
  {
   "cell_type": "code",
   "execution_count": 5,
   "id": "aa4393ed-3862-400a-986e-869b6bdcdb4c",
   "metadata": {},
   "outputs": [
    {
     "name": "stdout",
     "output_type": "stream",
     "text": [
      "Collecting pyodbc\n",
      "  Downloading pyodbc-5.2.0-cp312-cp312-win_amd64.whl.metadata (2.8 kB)\n",
      "Downloading pyodbc-5.2.0-cp312-cp312-win_amd64.whl (69 kB)\n",
      "Installing collected packages: pyodbc\n",
      "Successfully installed pyodbc-5.2.0\n",
      "Note: you may need to restart the kernel to use updated packages.\n"
     ]
    }
   ],
   "source": [
    "pip install pyodbc"
   ]
  },
  {
   "cell_type": "code",
   "execution_count": 7,
   "id": "c451417a-4fa5-4c03-9ef5-95814a53e5d2",
   "metadata": {},
   "outputs": [],
   "source": [
    "import pandas as pd\n",
    "import matplotlib.pyplot as plt\n",
    "import seaborn  as sns\n",
    "import pyodbc"
   ]
  },
  {
   "cell_type": "markdown",
   "id": "b34c85ba-1383-4812-9c5a-1be1bfa1c55b",
   "metadata": {},
   "source": [
    "### 2. Connect to SQL database "
   ]
  },
  {
   "cell_type": "code",
   "execution_count": 11,
   "id": "8ae7e47d-5607-45ee-b0b9-e4648bd2bf77",
   "metadata": {},
   "outputs": [],
   "source": [
    "# Define connection paramters \n",
    "server = 'DESKTOP-U507UFU'\n",
    "database = 'PRACTICE1'\n",
    "\n",
    "\n",
    "# Create the connection string (Trusted Windows Authentication)\n",
    "conn_str = (\n",
    "       \"Driver={SQL Server};\"\n",
    "    f\"Server={server};\"\n",
    "    f\"Database={database};\"\n",
    "    \"Trusted_Connection=yes;\"\n",
    ")\n",
    "\n",
    "#Establish Connection\n",
    "conn = pyodbc.connect(conn_str)\n"
   ]
  },
  {
   "cell_type": "markdown",
   "id": "18b7d28f-a1c0-48e8-a4fd-e5d2ad504962",
   "metadata": {},
   "source": [
    "### 3. Running Query and read data into DataFrame"
   ]
  },
  {
   "cell_type": "code",
   "execution_count": 12,
   "id": "df592bbf-fa38-4931-96ea-0701068855cf",
   "metadata": {},
   "outputs": [
    {
     "name": "stderr",
     "output_type": "stream",
     "text": [
      "C:\\Users\\User\\AppData\\Local\\Temp\\ipykernel_17700\\4119250790.py:14: UserWarning: pandas only supports SQLAlchemy connectable (engine/connection) or database string URI or sqlite3 DBAPI2 connection. Other DBAPI2 objects are not tested. Please consider using SQLAlchemy.\n",
      "  df = pd.read_sql(query, conn)\n"
     ]
    }
   ],
   "source": [
    "query = \"\"\"\n",
    "SELECT e1.department_id, e1.first_name, e1.last_name, department_name, e1.salary FROM \n",
    "\t\tinsurance_employees e1\n",
    "\tWHERE e1.salary > (\n",
    "\t\t\t\t\t\tSELECT \n",
    "\t\t\t\t\t\t\tAVG(e2.salary) As Avg_salary\n",
    "\t\t\t\t\t\t\tFROM insurance_employees e2 \n",
    "\t\t\t\t\t\t\tWHERE e2.department_id = e1.department_id\n",
    "\t\t\t\t\t\t\t)\n",
    "\tORDER BY \n",
    "\t  e1.salary DESC;\n",
    "\n",
    "\"\"\"\n",
    "df = pd.read_sql(query, conn)\n",
    "conn.close()"
   ]
  },
  {
   "cell_type": "markdown",
   "id": "621704e8-f66e-42d8-b863-b494268c5be6",
   "metadata": {},
   "source": [
    "### 4. Testing Results (From the Query)"
   ]
  },
  {
   "cell_type": "code",
   "execution_count": 14,
   "id": "d0a07d26-1e0b-4774-a2bf-dfecf8386e51",
   "metadata": {},
   "outputs": [
    {
     "data": {
      "text/html": [
       "<div>\n",
       "<style scoped>\n",
       "    .dataframe tbody tr th:only-of-type {\n",
       "        vertical-align: middle;\n",
       "    }\n",
       "\n",
       "    .dataframe tbody tr th {\n",
       "        vertical-align: top;\n",
       "    }\n",
       "\n",
       "    .dataframe thead th {\n",
       "        text-align: right;\n",
       "    }\n",
       "</style>\n",
       "<table border=\"1\" class=\"dataframe\">\n",
       "  <thead>\n",
       "    <tr style=\"text-align: right;\">\n",
       "      <th></th>\n",
       "      <th>department_id</th>\n",
       "      <th>first_name</th>\n",
       "      <th>last_name</th>\n",
       "      <th>department_name</th>\n",
       "      <th>salary</th>\n",
       "    </tr>\n",
       "  </thead>\n",
       "  <tbody>\n",
       "    <tr>\n",
       "      <th>0</th>\n",
       "      <td>106</td>\n",
       "      <td>David</td>\n",
       "      <td>Jackson</td>\n",
       "      <td>Finance</td>\n",
       "      <td>118294.34</td>\n",
       "    </tr>\n",
       "    <tr>\n",
       "      <th>1</th>\n",
       "      <td>104</td>\n",
       "      <td>Richard</td>\n",
       "      <td>Johnson</td>\n",
       "      <td>Sales</td>\n",
       "      <td>117068.78</td>\n",
       "    </tr>\n",
       "    <tr>\n",
       "      <th>2</th>\n",
       "      <td>103</td>\n",
       "      <td>Linda</td>\n",
       "      <td>Gonzalez</td>\n",
       "      <td>Customer Service</td>\n",
       "      <td>115977.87</td>\n",
       "    </tr>\n",
       "    <tr>\n",
       "      <th>3</th>\n",
       "      <td>104</td>\n",
       "      <td>Jennifer</td>\n",
       "      <td>Gonzalez</td>\n",
       "      <td>Sales</td>\n",
       "      <td>113704.34</td>\n",
       "    </tr>\n",
       "    <tr>\n",
       "      <th>4</th>\n",
       "      <td>106</td>\n",
       "      <td>Linda</td>\n",
       "      <td>Miller</td>\n",
       "      <td>Finance</td>\n",
       "      <td>113671.42</td>\n",
       "    </tr>\n",
       "  </tbody>\n",
       "</table>\n",
       "</div>"
      ],
      "text/plain": [
       "   department_id first_name last_name   department_name     salary\n",
       "0            106      David   Jackson           Finance  118294.34\n",
       "1            104    Richard   Johnson             Sales  117068.78\n",
       "2            103      Linda  Gonzalez  Customer Service  115977.87\n",
       "3            104   Jennifer  Gonzalez             Sales  113704.34\n",
       "4            106      Linda    Miller           Finance  113671.42"
      ]
     },
     "execution_count": 14,
     "metadata": {},
     "output_type": "execute_result"
    }
   ],
   "source": [
    "df.head()\n",
    "#Employees Above the Average salary threshold"
   ]
  },
  {
   "cell_type": "code",
   "execution_count": 15,
   "id": "778e14f4-fdc1-4194-a76d-4ba8bbf652f1",
   "metadata": {},
   "outputs": [
    {
     "name": "stdout",
     "output_type": "stream",
     "text": [
      "<class 'pandas.core.frame.DataFrame'>\n",
      "RangeIndex: 23 entries, 0 to 22\n",
      "Data columns (total 5 columns):\n",
      " #   Column           Non-Null Count  Dtype  \n",
      "---  ------           --------------  -----  \n",
      " 0   department_id    23 non-null     int64  \n",
      " 1   first_name       23 non-null     object \n",
      " 2   last_name        23 non-null     object \n",
      " 3   department_name  23 non-null     object \n",
      " 4   salary           23 non-null     float64\n",
      "dtypes: float64(1), int64(1), object(3)\n",
      "memory usage: 1.0+ KB\n"
     ]
    }
   ],
   "source": [
    "df.info()"
   ]
  },
  {
   "cell_type": "code",
   "execution_count": 16,
   "id": "29eccac8-41ed-472b-8d2d-3a854ae69142",
   "metadata": {},
   "outputs": [
    {
     "data": {
      "text/plain": [
       "(23, 5)"
      ]
     },
     "execution_count": 16,
     "metadata": {},
     "output_type": "execute_result"
    }
   ],
   "source": [
    "df.shape"
   ]
  },
  {
   "cell_type": "markdown",
   "id": "dd35bfed-080d-45ee-b066-da37aebf360d",
   "metadata": {},
   "source": [
    "### 4. Visualizing trends (High Income Earners)"
   ]
  },
  {
   "cell_type": "code",
   "execution_count": 30,
   "id": "e7a90600-c071-4941-904c-9a45db9e46a2",
   "metadata": {},
   "outputs": [
    {
     "data": {
      "image/png": "[encoded data removed]",
      "text/plain": [
       "<Figure size 1200x600 with 1 Axes>"
      ]
     },
     "metadata": {},
     "output_type": "display_data"
    }
   ],
   "source": [
    "# --- Sort and get top 15 earners ---\n",
    "top_earners = df.sort_values(by=\"salary\", ascending=False).head(15)\n",
    "\n",
    "# --- Create bar chart ---\n",
    "plt.figure(figsize=(12, 6))\n",
    "sns.barplot(\n",
    "    data=top_earners,\n",
    "    x=\"last_name\",\n",
    "    y=\"salary\",\n",
    "    color=\"seagreen\"\n",
    ")\n",
    "\n",
    "# --- Add red dotted line for average salary ---\n",
    "average_salary = 75776.940600\n",
    "plt.axhline(y=average_salary, color='red', linestyle='--', linewidth=2, label='Average Salary')\n",
    "\n",
    "# --- Customize plot ---\n",
    "plt.title(\"Top 10 Highest Income Earners\", fontsize=14, fontweight='bold')\n",
    "plt.xlabel(\"Employee Last Name\")\n",
    "plt.ylabel(\"Salary ($)\")\n",
    "plt.legend()\n",
    "plt.tight_layout()\n",
    "\n",
    "# --- Save and Display plot ---\n",
    "plt.savefig(\"Highest_earners.png\", dpi=300, bbox_inches='tight')\n",
    "plt.show()\n"
   ]
  },
  {
   "cell_type": "markdown",
   "id": "ae9731a3-9f27-458c-9ee1-f5f27d3086cc",
   "metadata": {},
   "source": [
    "### 5. Locating Image"
   ]
  },
  {
   "cell_type": "code",
   "execution_count": 31,
   "id": "53b35046-df88-4d5c-9ab0-8aa7e5f3bc9d",
   "metadata": {},
   "outputs": [
    {
     "name": "stdout",
     "output_type": "stream",
     "text": [
      "C:\\Windows\\system32\\1033\\Insurance_Company\n"
     ]
    }
   ],
   "source": [
    "import os\n",
    "print(os.getcwd())\n"
   ]
  },
  {
   "cell_type": "code",
   "execution_count": null,
   "id": "ce6dca4f-edd1-47fc-b708-4bf196c1cf05",
   "metadata": {},
   "outputs": [],
   "source": []
  }
 ],
 "metadata": {
  "kernelspec": {
   "display_name": "Python 3 (ipykernel)",
   "language": "python",
   "name": "python3"
  },
  "language_info": {
   "codemirror_mode": {
    "name": "ipython",
    "version": 3
   },
   "file_extension": ".py",
   "mimetype": "text/x-python",
   "name": "python",
   "nbconvert_exporter": "python",
   "pygments_lexer": "ipython3",
   "version": "3.12.1"
  }
 },
 "nbformat": 4,
 "nbformat_minor": 5
}
